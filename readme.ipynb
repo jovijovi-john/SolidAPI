{
 "cells": [
  {
   "attachments": {},
   "cell_type": "markdown",
   "metadata": {},
   "source": [
    "# API utilizando os princípios do SOLID\n",
    "\n",
    "- `S`: Single responsability principle\n",
    "  Cada classe / arquivo da aplicação deve ter apenas uma responsabilidade. Esse arquivo deve executar apenas uma tarefa dentro da aplicação\n",
    "- `"
   ]
  },
  {
   "cell_type": "markdown",
   "metadata": {},
   "source": []
  }
 ],
 "metadata": {
  "kernelspec": {
   "display_name": "Python 3",
   "language": "python",
   "name": "python3"
  },
  "language_info": {
   "codemirror_mode": {
    "name": "ipython",
    "version": 3
   },
   "file_extension": ".py",
   "mimetype": "text/x-python",
   "name": "python",
   "nbconvert_exporter": "python",
   "pygments_lexer": "ipython3",
   "version": "3.10.6"
  },
  "orig_nbformat": 4,
  "vscode": {
   "interpreter": {
    "hash": "6198e9a42f5542cb1c74e8b5846f1487b37ddda77a02754b3154d4dba2d99966"
   }
  }
 },
 "nbformat": 4,
 "nbformat_minor": 2
}
