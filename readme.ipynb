{
 "cells": [
  {
   "attachments": {},
   "cell_type": "markdown",
   "metadata": {},
   "source": [
    "# API utilizando os princípios do SOLID\n",
    "\n",
    "- `S`: Single responsability principle\n",
    "  > Cada classe / arquivo da aplicação deve ter apenas uma responsabilidade. Esse arquivo deve executar apenas uma tarefa dentro da aplicação\n",
    "- `O`: Open closed principle\n",
    "  > Define que uma classe deve ser aberta para extensões, mas não para modificações.\n",
    "- `L`: Liskov substutiton principle\n",
    "  > Defende que podemos substituir implementações que uma classe depende.\n",
    "- `I`: Interface segregation principle\n",
    "  > Defende que não criemos interfaces muito robustas, com várias propriedades, mas sim que essa interface seja dividida em interfaces menores, tipagens menores.\n",
    "- `D`: Dependency inversion principle\n",
    "  > As classes que definem as ações da nossa aplicação (controllers, usecases) não devem depender de implementações, mas sim de interfaces. \n",
    "\n",
    "<hr>\n",
    "\n",
    "*Na aplicação é utilizado um padrão chamado package by feature*\n",
    "\n",
    "<hr>\n",
    "## src\n",
    "\n",
    "- entities:\n",
    "\n",
    "  - É a pasta referente aos models, no MVC\n",
    "\n",
    "- repositories:\n",
    "\n",
    "  - Repositórios são classes específicas para comunicação entre as funcionalidades da aplicação com o banco de dados\n",
    "\n",
    "- useCases:\n",
    "\n",
    "  - Onde ficam as funcionalidades, ações que o usuário pode executar na aplicação, a lógica, a regra de negócio\n"
   ]
  },
  {
   "cell_type": "markdown",
   "metadata": {},
   "source": []
  }
 ],
 "metadata": {
  "kernelspec": {
   "display_name": "Python 3",
   "language": "python",
   "name": "python3"
  },
  "language_info": {
   "codemirror_mode": {
    "name": "ipython",
    "version": 3
   },
   "file_extension": ".py",
   "mimetype": "text/x-python",
   "name": "python",
   "nbconvert_exporter": "python",
   "pygments_lexer": "ipython3",
   "version": "3.10.6 (tags/v3.10.6:9c7b4bd, Aug  1 2022, 21:53:49) [MSC v.1932 64 bit (AMD64)]"
  },
  "orig_nbformat": 4,
  "vscode": {
   "interpreter": {
    "hash": "6198e9a42f5542cb1c74e8b5846f1487b37ddda77a02754b3154d4dba2d99966"
   }
  }
 },
 "nbformat": 4,
 "nbformat_minor": 2
}
